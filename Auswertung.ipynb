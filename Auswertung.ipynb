{
  "nbformat": 4,
  "nbformat_minor": 0,
  "metadata": {
    "colab": {
      "name": "Auswertung.ipynb",
      "provenance": [],
      "collapsed_sections": [],
      "authorship_tag": "ABX9TyNMD8LhX/HgTcQx0Zu3DaJi"
    },
    "kernelspec": {
      "name": "python3",
      "display_name": "Python 3"
    },
    "language_info": {
      "name": "python"
    }
  },
  "cells": [
    {
      "cell_type": "markdown",
      "metadata": {
        "id": "r1PR9AXaWVzg"
      },
      "source": [
        "#GIS-Part Ad Vacuum"
      ]
    },
    {
      "cell_type": "markdown",
      "metadata": {
        "id": "rLSrOimDqxee"
      },
      "source": [
        "Quellen:\n",
        "\n",
        "1.   https://realpython.com/api-integration-in-python/\n",
        "2.   https://openweathermap.org/current#geo\n",
        "3.   https://docs.python-requests.org/de/latest/user/quickstart.html\n",
        "4.   https://www.geeksforgeeks.org/read-json-file-using-python/"
      ]
    },
    {
      "cell_type": "markdown",
      "metadata": {
        "id": "-nlPkWGCWPVP"
      },
      "source": [
        "## Import Libraries"
      ]
    },
    {
      "cell_type": "code",
      "metadata": {
        "id": "v0weZiAJRf76"
      },
      "source": [
        "#Get all preinstalled modules\n",
        "%pip list"
      ],
      "execution_count": null,
      "outputs": []
    },
    {
      "cell_type": "code",
      "metadata": {
        "id": "BYAuzqrbI-Wl"
      },
      "source": [
        "import pandas as pd\n",
        "pd.__version__"
      ],
      "execution_count": null,
      "outputs": []
    },
    {
      "cell_type": "code",
      "metadata": {
        "colab": {
          "base_uri": "https://localhost:8080/",
          "height": 35
        },
        "id": "uJF0_PdFSPZG",
        "outputId": "9b0c84d2-3f55-43ee-9199-3a65ee31d125"
      },
      "source": [
        "import requests\n",
        "requests.__version__"
      ],
      "execution_count": 1,
      "outputs": [
        {
          "output_type": "execute_result",
          "data": {
            "application/vnd.google.colaboratory.intrinsic+json": {
              "type": "string"
            },
            "text/plain": [
              "'2.23.0'"
            ]
          },
          "metadata": {
            "tags": []
          },
          "execution_count": 1
        }
      ]
    },
    {
      "cell_type": "code",
      "metadata": {
        "colab": {
          "base_uri": "https://localhost:8080/",
          "height": 35
        },
        "id": "gdFcD_OxY0-e",
        "outputId": "5001128f-4e5d-442a-d1a9-d48520a847ff"
      },
      "source": [
        "import json\n",
        "json.__version__"
      ],
      "execution_count": 5,
      "outputs": [
        {
          "output_type": "execute_result",
          "data": {
            "application/vnd.google.colaboratory.intrinsic+json": {
              "type": "string"
            },
            "text/plain": [
              "'2.0.9'"
            ]
          },
          "metadata": {
            "tags": []
          },
          "execution_count": 5
        }
      ]
    },
    {
      "cell_type": "markdown",
      "metadata": {
        "id": "vLL6ID-5Wn7J"
      },
      "source": [
        "## API Call and Response"
      ]
    },
    {
      "cell_type": "code",
      "metadata": {
        "id": "MhHrOUT8Z76A",
        "colab": {
          "base_uri": "https://localhost:8080/"
        },
        "outputId": "cc783722-0443-4e55-9de0-d129001e365a"
      },
      "source": [
        "#Salzburg\n",
        "input_coords = '{\"type\":\"FeatureCollection\",\"features\":[{\"type\":\"Feature\",\"properties\":{},\"geometry\":{\"type\":\"Point\",\"coordinates\":[13.033218383789062,47.79355334155344]}}]}'\n",
        "#Hallein\n",
        "#testcoords = '{\"type\":\"FeatureCollection\",\"features\":[{\"type\":\"Feature\",\"properties\":{},\"geometry\":{\"type\":\"Point\",\"coordinates\":[13.096046447753906,47.69104578658821]}}]}'\n",
        "print(input_coords)"
      ],
      "execution_count": 9,
      "outputs": [
        {
          "output_type": "stream",
          "text": [
            "{\"type\":\"FeatureCollection\",\"features\":[{\"type\":\"Feature\",\"properties\":{},\"geometry\":{\"type\":\"Point\",\"coordinates\":[13.033218383789062,47.79355334155344]}}]}\n"
          ],
          "name": "stdout"
        }
      ]
    },
    {
      "cell_type": "code",
      "metadata": {
        "colab": {
          "base_uri": "https://localhost:8080/"
        },
        "id": "uhZYOBA5Ysfx",
        "outputId": "d67e47b6-8521-4bc9-ff82-159ade33182b"
      },
      "source": [
        "json_coords = json.loads(input_coords)\n",
        "print(json.dumps(json_coords, indent=4, sort_keys=True))"
      ],
      "execution_count": 10,
      "outputs": [
        {
          "output_type": "stream",
          "text": [
            "{\n",
            "    \"features\": [\n",
            "        {\n",
            "            \"geometry\": {\n",
            "                \"coordinates\": [\n",
            "                    13.033218383789062,\n",
            "                    47.79355334155344\n",
            "                ],\n",
            "                \"type\": \"Point\"\n",
            "            },\n",
            "            \"properties\": {},\n",
            "            \"type\": \"Feature\"\n",
            "        }\n",
            "    ],\n",
            "    \"type\": \"FeatureCollection\"\n",
            "}\n"
          ],
          "name": "stdout"
        }
      ]
    },
    {
      "cell_type": "code",
      "metadata": {
        "colab": {
          "base_uri": "https://localhost:8080/"
        },
        "id": "GKzfs6c_bx6C",
        "outputId": "635fe710-b5e7-4a64-ff1e-8920ad9edb60"
      },
      "source": [
        "lat = json_coords[\"features\"][0][\"geometry\"][\"coordinates\"][1]\n",
        "print(lat)\n",
        "lon = json_coords[\"features\"][0][\"geometry\"][\"coordinates\"][0]\n",
        "print(lon)"
      ],
      "execution_count": null,
      "outputs": [
        {
          "output_type": "stream",
          "text": [
            "47.79355334155344\n",
            "13.033218383789062\n"
          ],
          "name": "stdout"
        }
      ]
    },
    {
      "cell_type": "code",
      "metadata": {
        "id": "nyGkMcW_Jrci"
      },
      "source": [
        "#lat = '47.7994'\n",
        "#lon = '13.044'\n",
        "#resp = requests.get('http://api.openweathermap.org/data/2.5/weather?q=Salzburg&appid=')\n",
        "resp = requests.get('http://api.openweathermap.org/data/2.5/weather?lat=' + str(lat) + '&lon=' + str(lon) + '&appid=')\n",
        "if resp.status_code != 200:\n",
        "    # This means something went wrong.\n",
        "    raise ApiError('GET /tasks/ {}'.format(resp.status_code))"
      ],
      "execution_count": null,
      "outputs": []
    },
    {
      "cell_type": "code",
      "metadata": {
        "colab": {
          "base_uri": "https://localhost:8080/"
        },
        "id": "5bTDl9dAXEgQ",
        "outputId": "ae26aaeb-c8e2-4f3c-d056-8597164962a2"
      },
      "source": [
        "print(resp.text)"
      ],
      "execution_count": 8,
      "outputs": [
        {
          "output_type": "stream",
          "text": [
            "{\"coord\":{\"lon\":13.044,\"lat\":47.7994},\"weather\":[{\"id\":802,\"main\":\"Clouds\",\"description\":\"scattered clouds\",\"icon\":\"03d\"}],\"base\":\"stations\",\"main\":{\"temp\":288.89,\"feels_like\":287.46,\"temp_min\":287.04,\"temp_max\":290.15,\"pressure\":1014,\"humidity\":36},\"visibility\":10000,\"wind\":{\"speed\":2.57,\"deg\":0},\"clouds\":{\"all\":40},\"dt\":1619021963,\"sys\":{\"type\":1,\"id\":6877,\"country\":\"AT\",\"sunrise\":1618978036,\"sunset\":1619028322},\"timezone\":7200,\"id\":2766824,\"name\":\"Salzburg\",\"cod\":200}\n"
          ],
          "name": "stdout"
        }
      ]
    },
    {
      "cell_type": "markdown",
      "metadata": {
        "id": "m7VrJWrk0wpn"
      },
      "source": [
        "##Prettify JSON and get Wind Information"
      ]
    },
    {
      "cell_type": "code",
      "metadata": {
        "colab": {
          "base_uri": "https://localhost:8080/"
        },
        "id": "pvwEwpWDZKiB",
        "outputId": "b8900cb1-9243-4b7a-fc26-73bb662acc40"
      },
      "source": [
        "parsed = json.loads(resp.text)\n",
        "print(json.dumps(parsed, indent=4, sort_keys=True))"
      ],
      "execution_count": 6,
      "outputs": [
        {
          "output_type": "stream",
          "text": [
            "{\n",
            "    \"base\": \"stations\",\n",
            "    \"clouds\": {\n",
            "        \"all\": 40\n",
            "    },\n",
            "    \"cod\": 200,\n",
            "    \"coord\": {\n",
            "        \"lat\": 47.7994,\n",
            "        \"lon\": 13.044\n",
            "    },\n",
            "    \"dt\": 1619021436,\n",
            "    \"id\": 2766824,\n",
            "    \"main\": {\n",
            "        \"feels_like\": 287.57,\n",
            "        \"humidity\": 36,\n",
            "        \"pressure\": 1014,\n",
            "        \"temp\": 288.99,\n",
            "        \"temp_max\": 290.15,\n",
            "        \"temp_min\": 287.04\n",
            "    },\n",
            "    \"name\": \"Salzburg\",\n",
            "    \"sys\": {\n",
            "        \"country\": \"AT\",\n",
            "        \"id\": 6877,\n",
            "        \"sunrise\": 1618978036,\n",
            "        \"sunset\": 1619028322,\n",
            "        \"type\": 1\n",
            "    },\n",
            "    \"timezone\": 7200,\n",
            "    \"visibility\": 10000,\n",
            "    \"weather\": [\n",
            "        {\n",
            "            \"description\": \"scattered clouds\",\n",
            "            \"icon\": \"03d\",\n",
            "            \"id\": 802,\n",
            "            \"main\": \"Clouds\"\n",
            "        }\n",
            "    ],\n",
            "    \"wind\": {\n",
            "        \"deg\": 0,\n",
            "        \"speed\": 2.57\n",
            "    }\n",
            "}\n"
          ],
          "name": "stdout"
        }
      ]
    },
    {
      "cell_type": "code",
      "metadata": {
        "colab": {
          "base_uri": "https://localhost:8080/"
        },
        "id": "wkWUy5xBXob7",
        "outputId": "fbfcda96-a906-48d0-840b-25a2fce268b4"
      },
      "source": [
        "wind = parsed[\"wind\"]\n",
        "wind_speed = parsed[\"wind\"][\"speed\"]\n",
        "wind_dir = parsed[\"wind\"][\"deg\"]\n",
        "print(wind_speed)\n",
        "print(wind_dir)"
      ],
      "execution_count": 74,
      "outputs": [
        {
          "output_type": "stream",
          "text": [
            "2.57\n",
            "0\n"
          ],
          "name": "stdout"
        }
      ]
    },
    {
      "cell_type": "markdown",
      "metadata": {
        "id": "UjpJXyXv1OWd"
      },
      "source": [
        "##Create wind cones"
      ]
    },
    {
      "cell_type": "markdown",
      "metadata": {
        "id": "rH6OFruZy8BJ"
      },
      "source": [
        "https://gis.stackexchange.com/questions/326681/getting-geometries-of-hurricanes-cone-of-uncertainty-using-shapely\n",
        "https://link.springer.com/article/10.1007/s13595-019-0829-8\n",
        "https://www.dwd.de/DE/service/lexikon/Functions/glossar.html?lv2=102936&lv3=103182\n"
      ]
    },
    {
      "cell_type": "code",
      "metadata": {
        "colab": {
          "base_uri": "https://localhost:8080/"
        },
        "id": "DBfZSuRmb0hJ",
        "outputId": "f221a569-9fab-4268-df0e-a3c1c6424aed"
      },
      "source": [
        "#Recalculation of movement in km\n",
        "#Wind speed is calculated from m/s to km/h via *3.6\n",
        "#Fires move 1/10th the km/h of the wind speed (see paper above), thus /10\n",
        "wind_speed_move = (float(wind_speed)*3.6)/10 \n",
        "print(wind_speed_move)"
      ],
      "execution_count": 75,
      "outputs": [
        {
          "output_type": "stream",
          "text": [
            "0.9251999999999999\n"
          ],
          "name": "stdout"
        }
      ]
    },
    {
      "cell_type": "code",
      "metadata": {
        "colab": {
          "base_uri": "https://localhost:8080/"
        },
        "id": "EySrivNWsuaA",
        "outputId": "db263fce-c3ef-477b-a10f-6db7d2d1f77a"
      },
      "source": [
        "#Recalculation from geographic to arithmetic degrees\n",
        "#+180 because the fire goes away from the wind, not into the same direction\n",
        "dir_new = (-(wind_dir+180)+450)%360\n",
        "print(dir_new)"
      ],
      "execution_count": 79,
      "outputs": [
        {
          "output_type": "stream",
          "text": [
            "270\n"
          ],
          "name": "stdout"
        }
      ]
    },
    {
      "cell_type": "code",
      "metadata": {
        "colab": {
          "base_uri": "https://localhost:8080/"
        },
        "id": "WJHsQIrEjE0H",
        "outputId": "6434bc01-284a-45bd-d507-09db9e444efa"
      },
      "source": [
        "#Calculate x and y\n",
        "dx=wind_speed_move*np.cos(np.radians(dir_new))\n",
        "print(dx)\n",
        "dy=wind_speed_move*np.sin(np.radians(dir_new))\n",
        "print(dy)"
      ],
      "execution_count": 80,
      "outputs": [
        {
          "output_type": "stream",
          "text": [
            "-1.6995648278566965e-16\n",
            "-0.9251999999999999\n"
          ],
          "name": "stdout"
        }
      ]
    },
    {
      "cell_type": "code",
      "metadata": {
        "id": "Zs5Z0CqIwbQ4",
        "colab": {
          "base_uri": "https://localhost:8080/",
          "height": 282
        },
        "outputId": "51fd58c5-4e5e-46fc-ce70-167162096d21"
      },
      "source": [
        "import numpy as np\n",
        "import matplotlib.pyplot as plt\n",
        "from shapely.geometry import MultiPolygon, Polygon\n",
        "from shapely.ops import cascaded_union\n",
        "from scipy.interpolate import interp1d\n",
        "\n",
        "# x, y: coords of forecast position\n",
        "y = [18.3, 19.2, 20.0, 20.4, 20.7, 21.3, 21.6, 21.5, 20.8, 20.8, 21.5]\n",
        "x = [111.3, 111.2, 110.9, 110.5, 110.2, 110.5, 110.0, 109.2, 109.4, 110.3, 111.8]\n",
        "# r: radius of uncertainty\n",
        "r = [0, 0.05, 0.1, 0.15, 0.2, 0.3, 0.4, 0.5, 0.5, 0.5, 0.5]\n",
        "hours = [0, 6, 12, 18, 24, 36, 48, 60, 72, 96, 120]\n",
        "# interpolate\n",
        "points_num = 100\n",
        "interp_hours = np.linspace(min(hours), max(hours), points_num)\n",
        "x = interp1d(hours, x, kind='cubic')(interp_hours)\n",
        "y = interp1d(hours, y, kind='cubic')(interp_hours)\n",
        "r = interp1d(hours, r, kind='linear')(interp_hours)\n",
        "# make polygon\n",
        "thetas = np.linspace(0, 2 * np.pi, 360)\n",
        "polygon_x = x[:,None] + r[:,None] * np.sin(thetas)\n",
        "polygon_y = y[:,None] + r[:,None] * np.cos(thetas)\n",
        "\n",
        "# circles\n",
        "ps = [Polygon(i) for i in np.dstack((polygon_x, polygon_y))]\n",
        "\n",
        "# list of convex hulls of subsequent circles\n",
        "n = range(len(ps)-1)\n",
        "convex_hulls = [MultiPolygon([ps[i], ps[i+1]]).convex_hull for i in n]\n",
        "\n",
        "# Final polygon\n",
        "polygons = cascaded_union(convex_hulls)\n",
        "\n",
        "x,y=polygons.exterior.xy\n",
        "plt.plot(x,y)"
      ],
      "execution_count": 20,
      "outputs": [
        {
          "output_type": "execute_result",
          "data": {
            "text/plain": [
              "[<matplotlib.lines.Line2D at 0x7f660e7f4390>]"
            ]
          },
          "metadata": {
            "tags": []
          },
          "execution_count": 20
        },
        {
          "output_type": "display_data",
          "data": {
            "image/png": "[encoded data removed]",
            "text/plain": [
              "<Figure size 432x288 with 1 Axes>"
            ]
          },
          "metadata": {
            "tags": [],
            "needs_background": "light"
          }
        }
      ]
    }
  ]
}