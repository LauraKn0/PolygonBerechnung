{
  "nbformat": 4,
  "nbformat_minor": 0,
  "metadata": {
    "colab": {
      "name": "Auswertung.ipynb",
      "provenance": [],
      "collapsed_sections": [],
      "authorship_tag": "ABX9TyOxmaRVsIh31eA0dcad4esC"
    },
    "kernelspec": {
      "name": "python3",
      "display_name": "Python 3"
    },
    "language_info": {
      "name": "python"
    }
  },
  "cells": [
    {
      "cell_type": "markdown",
      "metadata": {
        "id": "r1PR9AXaWVzg"
      },
      "source": [
        "#GIS-Part Ad Vacuum"
      ]
    },
    {
      "cell_type": "markdown",
      "metadata": {
        "id": "rLSrOimDqxee"
      },
      "source": [
        "Quellen:\n",
        "\n",
        "1.   https://realpython.com/api-integration-in-python/\n",
        "2.   https://openweathermap.org/current#geo\n",
        "3.   https://docs.python-requests.org/de/latest/user/quickstart.html\n",
        "4.   https://www.geeksforgeeks.org/read-json-file-using-python/"
      ]
    },
    {
      "cell_type": "markdown",
      "metadata": {
        "id": "-nlPkWGCWPVP"
      },
      "source": [
        "## Import Libraries"
      ]
    },
    {
      "cell_type": "code",
      "metadata": {
        "id": "v0weZiAJRf76"
      },
      "source": [
        "#Get all preinstalled modules\n",
        "%pip list"
      ],
      "execution_count": null,
      "outputs": []
    },
    {
      "cell_type": "code",
      "metadata": {
        "id": "oZQQOoRghQVW"
      },
      "source": [
        "! git clone https://github.com/Turbo87/utm"
      ],
      "execution_count": null,
      "outputs": []
    },
    {
      "cell_type": "code",
      "metadata": {
        "id": "d158LpZBiwOK"
      },
      "source": [
        "%pip install /content/utm/"
      ],
      "execution_count": null,
      "outputs": []
    },
    {
      "cell_type": "code",
      "metadata": {
        "colab": {
          "base_uri": "https://localhost:8080/"
        },
        "id": "24el_wMmtgXh",
        "outputId": "6722ff8b-3637-41c0-951d-f7e91fe74cab"
      },
      "source": [
        "%pip install geopandas"
      ],
      "execution_count": 59,
      "outputs": [
        {
          "output_type": "stream",
          "text": [
            "Collecting geopandas\n",
            "\u001b[?25l  Downloading https://files.pythonhosted.org/packages/d7/bf/e9cefb69d39155d122b6ddca53893b61535fa6ffdad70bf5ef708977f53f/geopandas-0.9.0-py2.py3-none-any.whl (994kB)\n",
            "\u001b[K     |████████████████████████████████| 1.0MB 4.4MB/s \n",
            "\u001b[?25hRequirement already satisfied: shapely>=1.6 in /usr/local/lib/python3.7/dist-packages (from geopandas) (1.7.1)\n",
            "Requirement already satisfied: pandas>=0.24.0 in /usr/local/lib/python3.7/dist-packages (from geopandas) (1.1.5)\n",
            "Collecting pyproj>=2.2.0\n",
            "\u001b[?25l  Downloading https://files.pythonhosted.org/packages/b1/72/d52e9ca81caef056062d71991b0e9b1d16af042245627c5d0e4916a36c4f/pyproj-3.0.1-cp37-cp37m-manylinux2010_x86_64.whl (6.5MB)\n",
            "\u001b[K     |████████████████████████████████| 6.5MB 12.3MB/s \n",
            "\u001b[?25hCollecting fiona>=1.8\n",
            "\u001b[?25l  Downloading https://files.pythonhosted.org/packages/ea/2a/404b22883298a3efe9c6ef8d67acbf2c38443fa366ee9cd4cd34e17626ea/Fiona-1.8.19-cp37-cp37m-manylinux1_x86_64.whl (15.3MB)\n",
            "\u001b[K     |████████████████████████████████| 15.3MB 199kB/s \n",
            "\u001b[?25hRequirement already satisfied: pytz>=2017.2 in /usr/local/lib/python3.7/dist-packages (from pandas>=0.24.0->geopandas) (2018.9)\n",
            "Requirement already satisfied: python-dateutil>=2.7.3 in /usr/local/lib/python3.7/dist-packages (from pandas>=0.24.0->geopandas) (2.8.1)\n",
            "Requirement already satisfied: numpy>=1.15.4 in /usr/local/lib/python3.7/dist-packages (from pandas>=0.24.0->geopandas) (1.19.5)\n",
            "Requirement already satisfied: certifi in /usr/local/lib/python3.7/dist-packages (from pyproj>=2.2.0->geopandas) (2020.12.5)\n",
            "Requirement already satisfied: six>=1.7 in /usr/local/lib/python3.7/dist-packages (from fiona>=1.8->geopandas) (1.15.0)\n",
            "Collecting click-plugins>=1.0\n",
            "  Downloading https://files.pythonhosted.org/packages/e9/da/824b92d9942f4e472702488857914bdd50f73021efea15b4cad9aca8ecef/click_plugins-1.1.1-py2.py3-none-any.whl\n",
            "Collecting cligj>=0.5\n",
            "  Downloading https://files.pythonhosted.org/packages/42/1e/947eadf10d6804bf276eb8a038bd5307996dceaaa41cfd21b7a15ec62f5d/cligj-0.7.1-py3-none-any.whl\n",
            "Collecting munch\n",
            "  Downloading https://files.pythonhosted.org/packages/cc/ab/85d8da5c9a45e072301beb37ad7f833cd344e04c817d97e0cc75681d248f/munch-2.5.0-py2.py3-none-any.whl\n",
            "Requirement already satisfied: click<8,>=4.0 in /usr/local/lib/python3.7/dist-packages (from fiona>=1.8->geopandas) (7.1.2)\n",
            "Requirement already satisfied: attrs>=17 in /usr/local/lib/python3.7/dist-packages (from fiona>=1.8->geopandas) (20.3.0)\n",
            "Installing collected packages: pyproj, click-plugins, cligj, munch, fiona, geopandas\n",
            "Successfully installed click-plugins-1.1.1 cligj-0.7.1 fiona-1.8.19 geopandas-0.9.0 munch-2.5.0 pyproj-3.0.1\n"
          ],
          "name": "stdout"
        }
      ]
    },
    {
      "cell_type": "code",
      "metadata": {
        "colab": {
          "base_uri": "https://localhost:8080/"
        },
        "id": "8nC497zNx9cD",
        "outputId": "740e1260-42e2-4a39-c80b-0275e7c9cca5"
      },
      "source": [
        "%pip install geojson"
      ],
      "execution_count": 81,
      "outputs": [
        {
          "output_type": "stream",
          "text": [
            "Collecting geojson\n",
            "  Downloading https://files.pythonhosted.org/packages/e4/8d/9e28e9af95739e6d2d2f8d4bef0b3432da40b7c3588fbad4298c1be09e48/geojson-2.5.0-py2.py3-none-any.whl\n",
            "Installing collected packages: geojson\n",
            "Successfully installed geojson-2.5.0\n"
          ],
          "name": "stdout"
        }
      ]
    },
    {
      "cell_type": "code",
      "metadata": {
        "id": "BYAuzqrbI-Wl",
        "colab": {
          "base_uri": "https://localhost:8080/",
          "height": 35
        },
        "outputId": "139b7912-5e04-4261-e505-8469cd0c3d55"
      },
      "source": [
        "import pandas as pd\n",
        "pd.__version__"
      ],
      "execution_count": 2,
      "outputs": [
        {
          "output_type": "execute_result",
          "data": {
            "application/vnd.google.colaboratory.intrinsic+json": {
              "type": "string"
            },
            "text/plain": [
              "'1.1.5'"
            ]
          },
          "metadata": {
            "tags": []
          },
          "execution_count": 2
        }
      ]
    },
    {
      "cell_type": "code",
      "metadata": {
        "colab": {
          "base_uri": "https://localhost:8080/",
          "height": 35
        },
        "id": "uJF0_PdFSPZG",
        "outputId": "3862ae08-9f56-419c-ba0a-ba2df4122c1e"
      },
      "source": [
        "import requests\n",
        "requests.__version__"
      ],
      "execution_count": 3,
      "outputs": [
        {
          "output_type": "execute_result",
          "data": {
            "application/vnd.google.colaboratory.intrinsic+json": {
              "type": "string"
            },
            "text/plain": [
              "'2.23.0'"
            ]
          },
          "metadata": {
            "tags": []
          },
          "execution_count": 3
        }
      ]
    },
    {
      "cell_type": "code",
      "metadata": {
        "colab": {
          "base_uri": "https://localhost:8080/",
          "height": 35
        },
        "id": "gdFcD_OxY0-e",
        "outputId": "d4ea8100-1f75-4447-8e7b-73c2bd7bfcd5"
      },
      "source": [
        "import json\n",
        "json.__version__"
      ],
      "execution_count": 4,
      "outputs": [
        {
          "output_type": "execute_result",
          "data": {
            "application/vnd.google.colaboratory.intrinsic+json": {
              "type": "string"
            },
            "text/plain": [
              "'2.0.9'"
            ]
          },
          "metadata": {
            "tags": []
          },
          "execution_count": 4
        }
      ]
    },
    {
      "cell_type": "code",
      "metadata": {
        "colab": {
          "base_uri": "https://localhost:8080/",
          "height": 35
        },
        "id": "4tIVlp-gY7g1",
        "outputId": "7a065950-cf96-4168-f5b4-c87839a2dac3"
      },
      "source": [
        "import numpy as np\n",
        "np.__version__"
      ],
      "execution_count": 5,
      "outputs": [
        {
          "output_type": "execute_result",
          "data": {
            "application/vnd.google.colaboratory.intrinsic+json": {
              "type": "string"
            },
            "text/plain": [
              "'1.19.5'"
            ]
          },
          "metadata": {
            "tags": []
          },
          "execution_count": 5
        }
      ]
    },
    {
      "cell_type": "markdown",
      "metadata": {
        "id": "vLL6ID-5Wn7J"
      },
      "source": [
        "## API Call and Response"
      ]
    },
    {
      "cell_type": "code",
      "metadata": {
        "id": "MhHrOUT8Z76A",
        "colab": {
          "base_uri": "https://localhost:8080/"
        },
        "outputId": "ab293c3b-a453-46c4-9bc0-265c2a816bc5"
      },
      "source": [
        "#Salzburg\n",
        "input_coords = '{\"type\":\"FeatureCollection\",\"features\":[{\"type\":\"Feature\",\"properties\":{},\"geometry\":{\"type\":\"Point\",\"coordinates\":[13.033218383789062,47.79355334155344]}}]}'\n",
        "#Hallein\n",
        "#testcoords = '{\"type\":\"FeatureCollection\",\"features\":[{\"type\":\"Feature\",\"properties\":{},\"geometry\":{\"type\":\"Point\",\"coordinates\":[13.096046447753906,47.69104578658821]}}]}'\n",
        "print(input_coords)"
      ],
      "execution_count": 6,
      "outputs": [
        {
          "output_type": "stream",
          "text": [
            "{\"type\":\"FeatureCollection\",\"features\":[{\"type\":\"Feature\",\"properties\":{},\"geometry\":{\"type\":\"Point\",\"coordinates\":[13.033218383789062,47.79355334155344]}}]}\n"
          ],
          "name": "stdout"
        }
      ]
    },
    {
      "cell_type": "code",
      "metadata": {
        "colab": {
          "base_uri": "https://localhost:8080/"
        },
        "id": "uhZYOBA5Ysfx",
        "outputId": "a45dea5b-770c-4c98-b339-03932666d119"
      },
      "source": [
        "json_coords = json.loads(input_coords)\n",
        "print(json.dumps(json_coords, indent=4, sort_keys=True))"
      ],
      "execution_count": 7,
      "outputs": [
        {
          "output_type": "stream",
          "text": [
            "{\n",
            "    \"features\": [\n",
            "        {\n",
            "            \"geometry\": {\n",
            "                \"coordinates\": [\n",
            "                    13.033218383789062,\n",
            "                    47.79355334155344\n",
            "                ],\n",
            "                \"type\": \"Point\"\n",
            "            },\n",
            "            \"properties\": {},\n",
            "            \"type\": \"Feature\"\n",
            "        }\n",
            "    ],\n",
            "    \"type\": \"FeatureCollection\"\n",
            "}\n"
          ],
          "name": "stdout"
        }
      ]
    },
    {
      "cell_type": "code",
      "metadata": {
        "colab": {
          "base_uri": "https://localhost:8080/"
        },
        "id": "GKzfs6c_bx6C",
        "outputId": "b8df577f-b3f7-4216-92f0-deaf7c03299b"
      },
      "source": [
        "lat = json_coords[\"features\"][0][\"geometry\"][\"coordinates\"][1]\n",
        "print(lat)\n",
        "lon = json_coords[\"features\"][0][\"geometry\"][\"coordinates\"][0]\n",
        "print(lon)"
      ],
      "execution_count": 8,
      "outputs": [
        {
          "output_type": "stream",
          "text": [
            "47.79355334155344\n",
            "13.033218383789062\n"
          ],
          "name": "stdout"
        }
      ]
    },
    {
      "cell_type": "code",
      "metadata": {
        "id": "nyGkMcW_Jrci"
      },
      "source": [
        "#lat = '47.7994'\n",
        "#lon = '13.044'\n",
        "#resp = requests.get('http://api.openweathermap.org/data/2.5/weather?q=Salzburg&appid=ID')\n",
        "resp = requests.get('http://api.openweathermap.org/data/2.5/weather?lat=' + str(lat) + '&lon=' + str(lon) + '&appid=')\n",
        "if resp.status_code != 200:\n",
        "    # This means something went wrong.\n",
        "    raise ApiError('GET /tasks/ {}'.format(resp.status_code))"
      ],
      "execution_count": 9,
      "outputs": []
    },
    {
      "cell_type": "code",
      "metadata": {
        "colab": {
          "base_uri": "https://localhost:8080/"
        },
        "id": "5bTDl9dAXEgQ",
        "outputId": "009cd7c8-26ac-48fe-bc49-2e2ace3bc3d2"
      },
      "source": [
        "print(resp.text)"
      ],
      "execution_count": 10,
      "outputs": [
        {
          "output_type": "stream",
          "text": [
            "{\"coord\":{\"lon\":13.0332,\"lat\":47.7936},\"weather\":[{\"id\":802,\"main\":\"Clouds\",\"description\":\"scattered clouds\",\"icon\":\"03d\"}],\"base\":\"stations\",\"main\":{\"temp\":282.45,\"feels_like\":280.24,\"temp_min\":281.48,\"temp_max\":283.15,\"pressure\":1020,\"humidity\":76},\"visibility\":10000,\"wind\":{\"speed\":4.12,\"deg\":200},\"clouds\":{\"all\":40},\"dt\":1619111234,\"sys\":{\"type\":1,\"id\":6877,\"country\":\"AT\",\"sunrise\":1619064331,\"sunset\":1619114809},\"timezone\":7200,\"id\":2766824,\"name\":\"Salzburg\",\"cod\":200}\n"
          ],
          "name": "stdout"
        }
      ]
    },
    {
      "cell_type": "markdown",
      "metadata": {
        "id": "m7VrJWrk0wpn"
      },
      "source": [
        "##Prettify JSON and get Wind Information"
      ]
    },
    {
      "cell_type": "code",
      "metadata": {
        "colab": {
          "base_uri": "https://localhost:8080/"
        },
        "id": "pvwEwpWDZKiB",
        "outputId": "7da61b20-16e8-484d-f586-f0c7c843db52"
      },
      "source": [
        "parsed = json.loads(resp.text)\n",
        "print(json.dumps(parsed, indent=4, sort_keys=True))"
      ],
      "execution_count": 11,
      "outputs": [
        {
          "output_type": "stream",
          "text": [
            "{\n",
            "    \"base\": \"stations\",\n",
            "    \"clouds\": {\n",
            "        \"all\": 40\n",
            "    },\n",
            "    \"cod\": 200,\n",
            "    \"coord\": {\n",
            "        \"lat\": 47.7936,\n",
            "        \"lon\": 13.0332\n",
            "    },\n",
            "    \"dt\": 1619111234,\n",
            "    \"id\": 2766824,\n",
            "    \"main\": {\n",
            "        \"feels_like\": 280.24,\n",
            "        \"humidity\": 76,\n",
            "        \"pressure\": 1020,\n",
            "        \"temp\": 282.45,\n",
            "        \"temp_max\": 283.15,\n",
            "        \"temp_min\": 281.48\n",
            "    },\n",
            "    \"name\": \"Salzburg\",\n",
            "    \"sys\": {\n",
            "        \"country\": \"AT\",\n",
            "        \"id\": 6877,\n",
            "        \"sunrise\": 1619064331,\n",
            "        \"sunset\": 1619114809,\n",
            "        \"type\": 1\n",
            "    },\n",
            "    \"timezone\": 7200,\n",
            "    \"visibility\": 10000,\n",
            "    \"weather\": [\n",
            "        {\n",
            "            \"description\": \"scattered clouds\",\n",
            "            \"icon\": \"03d\",\n",
            "            \"id\": 802,\n",
            "            \"main\": \"Clouds\"\n",
            "        }\n",
            "    ],\n",
            "    \"wind\": {\n",
            "        \"deg\": 200,\n",
            "        \"speed\": 4.12\n",
            "    }\n",
            "}\n"
          ],
          "name": "stdout"
        }
      ]
    },
    {
      "cell_type": "code",
      "metadata": {
        "colab": {
          "base_uri": "https://localhost:8080/"
        },
        "id": "wkWUy5xBXob7",
        "outputId": "38a33315-08fb-40f7-a5a3-82cf0860a353"
      },
      "source": [
        "wind = parsed[\"wind\"]\n",
        "wind_speed = parsed[\"wind\"][\"speed\"]\n",
        "wind_dir = parsed[\"wind\"][\"deg\"]\n",
        "print(wind_speed)\n",
        "print(wind_dir)"
      ],
      "execution_count": 12,
      "outputs": [
        {
          "output_type": "stream",
          "text": [
            "4.12\n",
            "200\n"
          ],
          "name": "stdout"
        }
      ]
    },
    {
      "cell_type": "markdown",
      "metadata": {
        "id": "UjpJXyXv1OWd"
      },
      "source": [
        "##Create wind cones"
      ]
    },
    {
      "cell_type": "markdown",
      "metadata": {
        "id": "rH6OFruZy8BJ"
      },
      "source": [
        "https://gis.stackexchange.com/questions/326681/getting-geometries-of-hurricanes-cone-of-uncertainty-using-shapely\n",
        "https://link.springer.com/article/10.1007/s13595-019-0829-8\n",
        "https://www.dwd.de/DE/service/lexikon/Functions/glossar.html?lv2=102936&lv3=103182\n"
      ]
    },
    {
      "cell_type": "code",
      "metadata": {
        "colab": {
          "base_uri": "https://localhost:8080/"
        },
        "id": "DBfZSuRmb0hJ",
        "outputId": "525e28c8-a19d-40da-d105-e51a6b38b922"
      },
      "source": [
        "#Recalculation of movement in km\n",
        "#Wind speed is calculated from m/s to km/h via *3.6\n",
        "#Fires move 1/10th the km/h of the wind speed (see paper above), thus /10\n",
        "wind_speed_move = (float(wind_speed)*3.6)/10 \n",
        "print(wind_speed_move)"
      ],
      "execution_count": 13,
      "outputs": [
        {
          "output_type": "stream",
          "text": [
            "1.4832\n"
          ],
          "name": "stdout"
        }
      ]
    },
    {
      "cell_type": "code",
      "metadata": {
        "colab": {
          "base_uri": "https://localhost:8080/"
        },
        "id": "EySrivNWsuaA",
        "outputId": "a778f985-e9b1-463c-a677-25b91656af7c"
      },
      "source": [
        "#Recalculation from geographic to arithmetic degrees\n",
        "#+180 because the fire goes away from the wind, not into the same direction\n",
        "dir_new = (-(wind_dir+180)+450)%360\n",
        "print(dir_new)"
      ],
      "execution_count": 14,
      "outputs": [
        {
          "output_type": "stream",
          "text": [
            "70\n"
          ],
          "name": "stdout"
        }
      ]
    },
    {
      "cell_type": "code",
      "metadata": {
        "colab": {
          "base_uri": "https://localhost:8080/"
        },
        "id": "WJHsQIrEjE0H",
        "outputId": "653c9405-67cf-4127-dcb2-dabd338040eb"
      },
      "source": [
        "#Calculate x and y\n",
        "dx=wind_speed_move*np.cos(np.radians(dir_new))\n",
        "print(dx)\n",
        "dy=wind_speed_move*np.sin(np.radians(dir_new))\n",
        "print(dy)"
      ],
      "execution_count": 15,
      "outputs": [
        {
          "output_type": "stream",
          "text": [
            "0.507284276580632\n",
            "1.3937520951496594\n"
          ],
          "name": "stdout"
        }
      ]
    },
    {
      "cell_type": "code",
      "metadata": {
        "colab": {
          "base_uri": "https://localhost:8080/"
        },
        "id": "rrtkktFWZnb7",
        "outputId": "6383bf40-2852-48cd-9af3-d1588c57bb31"
      },
      "source": [
        "#Conversion to degrees latitude and longitude\n",
        "#The approximate conversions are:\n",
        "#Latitude: 1 deg = 110.574 km -> deg = x/110.574\n",
        "#Longitude: 1 deg = 111.320*cos(latitude) km -> deg = x/111.320\n",
        "import utm\n",
        "print(utm.__version__)\n",
        "\n",
        "#conversion to UTM ('meters')\n",
        "utm_coords = utm.from_latlon(lat, lon)\n",
        "\n",
        "#add x and y in meters\n",
        "newlat=utm_coords[0]+(dx*1000)\n",
        "newlon=utm_coords[1]+(dy*1000)\n",
        "\n",
        "#Return to WGS84\n",
        "pos2 = utm.to_latlon(newlat,newlon,utm_coords[2],utm_coords[3])\n",
        "print(pos2)\n",
        "\n"
      ],
      "execution_count": 34,
      "outputs": [
        {
          "output_type": "stream",
          "text": [
            "0.7.0\n",
            "(47.806202122023635, 13.039516260511878)\n"
          ],
          "name": "stdout"
        }
      ]
    },
    {
      "cell_type": "code",
      "metadata": {
        "colab": {
          "base_uri": "https://localhost:8080/",
          "height": 282
        },
        "id": "3NsBeF-air1O",
        "outputId": "6423ecf7-1d22-4e8f-91a1-57bacdb65404"
      },
      "source": [
        "import matplotlib.pyplot as plt\n",
        "from shapely.geometry import MultiPolygon, Polygon\n",
        "from shapely.ops import cascaded_union\n",
        "from scipy.interpolate import interp1d\n",
        "\n",
        "# x, y: coords of forecast position\n",
        "y = [lat, pos2[0],47.81765021489975,47.831134971598395]\n",
        "x = [lon, pos2[1],13.046951293945312,13.071155548095703]\n",
        "# r: radius of uncertainty\n",
        "r = [0, 0.001, 0.002, 0.003]\n",
        "hours = [0, 1, 2, 3]\n",
        "# interpolate\n",
        "points_num = 100\n",
        "interp_hours = np.linspace(min(hours), max(hours), points_num)\n",
        "x = interp1d(hours, x, kind='cubic')(interp_hours)\n",
        "y = interp1d(hours, y, kind='cubic')(interp_hours)\n",
        "r = interp1d(hours, r, kind='linear')(interp_hours)\n",
        "# make polygon\n",
        "thetas = np.linspace(0, 2 * np.pi, 360)\n",
        "polygon_x = x[:,None] + r[:,None] * np.sin(thetas)\n",
        "polygon_y = y[:,None] + r[:,None] * np.cos(thetas)\n",
        "\n",
        "# circles\n",
        "ps = [Polygon(i) for i in np.dstack((polygon_x, polygon_y))]\n",
        "\n",
        "# list of convex hulls of subsequent circles\n",
        "n = range(len(ps)-1)\n",
        "convex_hulls = [MultiPolygon([ps[i], ps[i+1]]).convex_hull for i in n]\n",
        "\n",
        "# Final polygon\n",
        "polygons = cascaded_union(convex_hulls)\n",
        "\n",
        "x,y=polygons.exterior.xy\n",
        "plt.plot(x,y)"
      ],
      "execution_count": 52,
      "outputs": [
        {
          "output_type": "execute_result",
          "data": {
            "text/plain": [
              "[<matplotlib.lines.Line2D at 0x7f3eb5fee450>]"
            ]
          },
          "metadata": {
            "tags": []
          },
          "execution_count": 52
        },
        {
          "output_type": "display_data",
          "data": {
            "image/png": "[encoded data removed]",
            "text/plain": [
              "<Figure size 432x288 with 1 Axes>"
            ]
          },
          "metadata": {
            "tags": [],
            "needs_background": "light"
          }
        }
      ]
    },
    {
      "cell_type": "code",
      "metadata": {
        "colab": {
          "base_uri": "https://localhost:8080/"
        },
        "id": "GU2El5iTitl9",
        "outputId": "205329e9-b568-4d9f-b57e-c79cc0c08648"
      },
      "source": [
        "#print(polygons)\n",
        "from shapely import wkt\n",
        "import geojson\n",
        "\n",
        "#thewkt=wkt.dumps(polygons)\n",
        "#thewkt\n",
        "g1=wkt.loads(str(polygons))\n",
        "\n",
        "g2=geojson.Feature(properties={\"Name\": \"Betroffenheitspolygon\"},geometry=g1)\n",
        "\n",
        "g2.geometry\n",
        "print(g2)\n",
        "#print(json.dumps(g2, indent=4, sort_keys=True))"
      ],
      "execution_count": 89,
      "outputs": [
        {
          "output_type": "stream",
          "text": [
            "{\"geometry\": {\"coordinates\": [[[13.033218, 47.793553], [13.033518, 47.794002], [13.033804, 47.794446], [13.034077, 47.794885], [13.034338, 47.79532], [13.034587, 47.79575], [13.034824, 47.796176], [13.03505, 47.796597], [13.035265, 47.797014], [13.035471, 47.797426], [13.035666, 47.797835], [13.035852, 47.79824], [13.03603, 47.798641], [13.036199, 47.799039], [13.03636, 47.799431], [13.036514, 47.799822], [13.036662, 47.80021], [13.036802, 47.800594], [13.036937, 47.800974], [13.037067, 47.801355], [13.03719, 47.801727], [13.037311, 47.802105], [13.037424, 47.802472], [13.037537, 47.802846], [13.037645, 47.803211], [13.037751, 47.803575], [13.037855, 47.803943], [13.037957, 47.804309], [13.038058, 47.804674], [13.038158, 47.805037], [13.038257, 47.805398], [13.038356, 47.805758], [13.038454, 47.806117], [13.038554, 47.806474], [13.038655, 47.806831], [13.038757, 47.807186], [13.038762, 47.807204], [13.038866, 47.807559], [13.038972, 47.807913], [13.039082, 47.808267], [13.039088, 47.808286], [13.0392, 47.808639], [13.039316, 47.808992], [13.039323, 47.809012], [13.039444, 47.809365], [13.039451, 47.809386], [13.039576, 47.809738], [13.039706, 47.810091], [13.039714, 47.810112], [13.03985, 47.810465], [13.039858, 47.810487], [13.04, 47.81084], [13.040009, 47.810862], [13.040157, 47.811216], [13.040167, 47.811239], [13.040322, 47.811593], [13.040333, 47.811616], [13.040495, 47.811971], [13.040506, 47.811994], [13.040676, 47.812349], [13.040688, 47.812373], [13.040866, 47.812729], [13.040879, 47.812753], [13.041066, 47.81311], [13.041079, 47.813134], [13.041275, 47.813492], [13.041288, 47.813516], [13.041494, 47.813876], [13.041509, 47.8139], [13.041724, 47.814261], [13.041739, 47.814285], [13.041966, 47.814647], [13.041981, 47.814672], [13.042219, 47.815035], [13.042235, 47.81506], [13.042484, 47.815424], [13.042501, 47.815449], [13.042518, 47.815474], [13.042779, 47.81584], [13.042797, 47.815865], [13.04307, 47.816233], [13.043089, 47.816258], [13.043375, 47.816628], [13.043394, 47.816653], [13.043693, 47.817024], [13.043714, 47.817049], [13.044026, 47.817423], [13.044047, 47.817448], [13.044374, 47.817823], [13.044396, 47.817848], [13.044736, 47.818225], [13.044759, 47.81825], [13.045115, 47.81863], [13.045139, 47.818655], [13.04551, 47.819036], [13.045534, 47.819061], [13.045921, 47.819445], [13.045946, 47.81947], [13.046349, 47.819856], [13.046375, 47.819881], [13.046795, 47.82027], [13.046822, 47.820294], [13.047258, 47.820685], [13.047286, 47.82071], [13.04774, 47.821104], [13.047769, 47.821128], [13.048241, 47.821524], [13.04827, 47.821549], [13.048761, 47.821948], [13.048791, 47.821972], [13.049301, 47.822374], [13.049332, 47.822398], [13.049861, 47.822802], [13.050409, 47.82321], [13.050441, 47.823234], [13.051009, 47.823644], [13.051043, 47.823668], [13.051631, 47.824082], [13.051666, 47.824105], [13.052275, 47.824522], [13.052906, 47.824942], [13.052942, 47.824966], [13.053595, 47.825389], [13.053631, 47.825412], [13.054306, 47.825839], [13.055004, 47.826269], [13.055041, 47.826292], [13.055762, 47.826726], [13.055801, 47.826749], [13.056545, 47.827187], [13.057313, 47.827628], [13.057353, 47.82765], [13.058146, 47.828095], [13.058963, 47.828544], [13.059004, 47.828567], [13.059847, 47.82902], [13.060715, 47.829477], [13.060757, 47.829499], [13.061652, 47.82996], [13.062573, 47.830426], [13.062616, 47.830447], [13.063564, 47.830917], [13.064539, 47.831391], [13.064584, 47.831413], [13.065587, 47.831892], [13.066619, 47.832375], [13.067678, 47.832863], [13.067725, 47.832884], [13.068814, 47.833377], [13.069932, 47.833874], [13.06998, 47.833895], [13.070029, 47.833915], [13.070078, 47.833935], [13.070127, 47.833953], [13.070176, 47.833971], [13.070226, 47.833987], [13.070276, 47.834003], [13.070326, 47.834018], [13.070377, 47.834032], [13.070428, 47.834045], [13.070479, 47.834058], [13.07053, 47.834069], [13.070582, 47.83408], [13.070633, 47.834089], [13.070685, 47.834098], [13.070737, 47.834106], [13.070789, 47.834112], [13.070841, 47.834118], [13.070893, 47.834123], [13.070946, 47.834128], [13.070998, 47.834131], [13.071051, 47.834133], [13.071103, 47.834135], [13.071156, 47.834135], [13.071208, 47.834135], [13.071261, 47.834133], [13.071313, 47.834131], [13.071365, 47.834128], [13.071418, 47.834123], [13.07147, 47.834118], [13.071522, 47.834112], [13.071574, 47.834106], [13.071626, 47.834098], [13.071678, 47.834089], [13.07173, 47.83408], [13.071781, 47.834069], [13.071832, 47.834058], [13.071883, 47.834045], [13.071934, 47.834032], [13.071985, 47.834018], [13.072035, 47.834003], [13.072085, 47.833987], [13.072135, 47.833971], [13.072184, 47.833953], [13.072234, 47.833935], [13.072282, 47.833915], [13.072331, 47.833895], [13.072379, 47.833874], [13.072427, 47.833852], [13.072474, 47.83383], [13.072521, 47.833806], [13.072568, 47.833782], [13.072614, 47.833757], [13.072659, 47.833731], [13.072705, 47.833704], [13.072749, 47.833677], [13.072793, 47.833648], [13.072837, 47.833619], [13.07288, 47.833589], [13.072923, 47.833559], [13.072965, 47.833528], [13.073007, 47.833496], [13.073048, 47.833463], [13.073088, 47.833429], [13.073128, 47.833395], [13.073167, 47.83336], [13.073206, 47.833325], [13.073244, 47.833289], [13.073282, 47.833252], [13.073318, 47.833214], [13.073354, 47.833176], [13.07339, 47.833137], [13.073424, 47.833098], [13.073458, 47.833058], [13.073492, 47.833017], [13.073524, 47.832976], [13.073556, 47.832934], [13.073587, 47.832892], [13.073618, 47.832849], [13.073647, 47.832806], [13.073676, 47.832762], [13.073704, 47.832718], [13.073731, 47.832673], [13.073758, 47.832627], [13.073784, 47.832582], [13.073809, 47.832535], [13.073833, 47.832489], [13.073856, 47.832442], [13.073878, 47.832394], [13.0739, 47.832346], [13.073921, 47.832298], [13.073941, 47.83225], [13.07396, 47.832201], [13.073978, 47.832151], [13.073995, 47.832102], [13.074012, 47.832052], [13.074028, 47.832002], [13.074042, 47.831952], [13.074056, 47.831901], [13.074069, 47.83185], [13.074081, 47.831799], [13.074092, 47.831748], [13.074103, 47.831696], [13.074112, 47.831644], [13.07412, 47.831593], [13.074128, 47.831541], [13.074135, 47.831489], [13.07414, 47.831436], [13.074145, 47.831384], [13.074149, 47.831332], [13.074152, 47.831279], [13.074154, 47.831227], [13.074155, 47.831174], [13.074156, 47.831122], [13.074155, 47.831069], [13.074153, 47.831017], [13.074151, 47.830964], [13.074147, 47.830912], [13.074143, 47.83086], [13.074138, 47.830807], [13.074131, 47.830755], [13.074124, 47.830703], [13.074116, 47.830651], [13.074107, 47.8306], [13.074098, 47.830548], [13.074087, 47.830497], [13.074075, 47.830445], [13.074063, 47.830394], [13.074049, 47.830344], [13.074035, 47.830293], [13.07402, 47.830243], [13.074004, 47.830193], [13.073987, 47.830143], [13.073969, 47.830094], [13.07395, 47.830045], [13.073931, 47.829996], [13.073911, 47.829948], [13.073889, 47.8299], [13.073867, 47.829852], [13.073844, 47.829805], [13.073821, 47.829758], [13.073796, 47.829711], [13.073771, 47.829665], [13.073745, 47.82962], [13.073718, 47.829575], [13.07369, 47.82953], [13.073662, 47.829486], [13.073633, 47.829442], [13.073603, 47.829399], [13.073572, 47.829357], [13.07354, 47.829315], [13.073508, 47.829273], [13.073475, 47.829232], [13.073441, 47.829192], [13.073407, 47.829152], [13.073372, 47.829113], [13.073336, 47.829075], [13.0733, 47.829037], [13.073263, 47.829], [13.073225, 47.828963], [13.073187, 47.828927], [13.073148, 47.828892], [13.073108, 47.828858], [13.073068, 47.828824], [13.073027, 47.828791], [13.072986, 47.828758], [13.072944, 47.828727], [13.072902, 47.828696], [13.072859, 47.828665], [13.072815, 47.828636], [13.072771, 47.828607], [13.072727, 47.828579], [13.072682, 47.828552], [13.072637, 47.828526], [13.072591, 47.828501], [13.072544, 47.828476], [13.072498, 47.828452], [13.07245, 47.828429], [13.072403, 47.828407], [13.072355, 47.828385], [13.072307, 47.828365], [13.072258, 47.828345], [13.071116, 47.827903], [13.070004, 47.827466], [13.06892, 47.827034], [13.067912, 47.826626], [13.066884, 47.826202], [13.065887, 47.825784], [13.064956, 47.825388], [13.064009, 47.824977], [13.063106, 47.824578], [13.062238, 47.824187], [13.061368, 47.823789], [13.060564, 47.823413], [13.059745, 47.823022], [13.058978, 47.822649], [13.058215, 47.82227], [13.057492, 47.821903], [13.056777, 47.821531], [13.056101, 47.821173], [13.055425, 47.820806], [13.054799, 47.820457], [13.054168, 47.820098], [13.053571, 47.81975], [13.052994, 47.819405], [13.052429, 47.819058], [13.051892, 47.81872], [13.051372, 47.818383], [13.050866, 47.818046], [13.050378, 47.817713], [13.049916, 47.817387], [13.049464, 47.81706], [13.049028, 47.816735], [13.048609, 47.816412], [13.048205, 47.816092], [13.047816, 47.815774], [13.047443, 47.815459], [13.047085, 47.815146], [13.046738, 47.814834], [13.046404, 47.814523], [13.046083, 47.814213], [13.045773, 47.813905], [13.045476, 47.813598], [13.045189, 47.813292], [13.044913, 47.812987], [13.044646, 47.812682], [13.044389, 47.812378], [13.044142, 47.812073], [13.043902, 47.811769], [13.043671, 47.811465], [13.043448, 47.81116], [13.043232, 47.810854], [13.043022, 47.810548], [13.042819, 47.810241], [13.042621, 47.809932], [13.042431, 47.809625], [13.042245, 47.809315], [13.042062, 47.809001], [13.041884, 47.808685], [13.041713, 47.808375], [13.041542, 47.808055], [13.041375, 47.807736], [13.041212, 47.807416], [13.041051, 47.807092], [13.04089, 47.806765], [13.040736, 47.806444], [13.040577, 47.80611], [13.04042, 47.805774], [13.040268, 47.805447], [13.040116, 47.805115], [13.03996, 47.804776], [13.039804, 47.804435], [13.039648, 47.804093], [13.03949, 47.80375], [13.039331, 47.803404], [13.039325, 47.803392], [13.039164, 47.803045], [13.039001, 47.802697], [13.038835, 47.802346], [13.038665, 47.801994], [13.03866, 47.801984], [13.038487, 47.80163], [13.03831, 47.801273], [13.038305, 47.801264], [13.038123, 47.800906], [13.037937, 47.800546], [13.037932, 47.800537], [13.03774, 47.800175], [13.037543, 47.79981], [13.037539, 47.799803], [13.037335, 47.799436], [13.037124, 47.799066], [13.03712, 47.79906], [13.036903, 47.798687], [13.036899, 47.798682], [13.036674, 47.798307], [13.036441, 47.797929], [13.036438, 47.797925], [13.036197, 47.797544], [13.036194, 47.79754], [13.035944, 47.797157], [13.035941, 47.797153], [13.035682, 47.796767], [13.035413, 47.796378], [13.035411, 47.796375], [13.035132, 47.795983], [13.03513, 47.795981], [13.034841, 47.795585], [13.034839, 47.795583], [13.034539, 47.795185], [13.034227, 47.794783], [13.034226, 47.794782], [13.033903, 47.794376], [13.033902, 47.794375], [13.033567, 47.793966], [13.033566, 47.793966], [13.033218, 47.793553]]], \"type\": \"Polygon\"}, \"properties\": {\"Name\": \"Betroffenheitspolygon\"}, \"type\": \"Feature\"}\n"
          ],
          "name": "stdout"
        }
      ]
    },
    {
      "cell_type": "code",
      "metadata": {
        "id": "Zs5Z0CqIwbQ4",
        "colab": {
          "base_uri": "https://localhost:8080/",
          "height": 282
        },
        "outputId": "b0684dc3-5c95-4681-daca-6b84bb133bc5"
      },
      "source": [
        "import matplotlib.pyplot as plt\n",
        "from shapely.geometry import MultiPolygon, Polygon\n",
        "from shapely.ops import cascaded_union\n",
        "from scipy.interpolate import interp1d\n",
        "\n",
        "# x, y: coords of forecast position\n",
        "y = [18.3, 19.2, 20.0, 20.4, 20.7, 21.3, 21.6, 21.5, 20.8, 20.8, 21.5]\n",
        "x = [111.3, 111.2, 110.9, 110.5, 110.2, 110.5, 110.0, 109.2, 109.4, 110.3, 111.8]\n",
        "# r: radius of uncertainty\n",
        "r = [0, 0.05, 0.1, 0.15, 0.2, 0.3, 0.4, 0.5, 0.5, 0.5, 0.5]\n",
        "hours = [0, 6, 12, 18, 24, 36, 48, 60, 72, 96, 120]\n",
        "# interpolate\n",
        "points_num = 100\n",
        "interp_hours = np.linspace(min(hours), max(hours), points_num)\n",
        "x = interp1d(hours, x, kind='cubic')(interp_hours)\n",
        "y = interp1d(hours, y, kind='cubic')(interp_hours)\n",
        "r = interp1d(hours, r, kind='linear')(interp_hours)\n",
        "# make polygon\n",
        "thetas = np.linspace(0, 2 * np.pi, 360)\n",
        "polygon_x = x[:,None] + r[:,None] * np.sin(thetas)\n",
        "polygon_y = y[:,None] + r[:,None] * np.cos(thetas)\n",
        "\n",
        "# circles\n",
        "ps = [Polygon(i) for i in np.dstack((polygon_x, polygon_y))]\n",
        "\n",
        "# list of convex hulls of subsequent circles\n",
        "n = range(len(ps)-1)\n",
        "convex_hulls = [MultiPolygon([ps[i], ps[i+1]]).convex_hull for i in n]\n",
        "\n",
        "# Final polygon\n",
        "polygons = cascaded_union(convex_hulls)\n",
        "\n",
        "x,y=polygons.exterior.xy\n",
        "plt.plot(x,y)"
      ],
      "execution_count": 24,
      "outputs": [
        {
          "output_type": "execute_result",
          "data": {
            "text/plain": [
              "[<matplotlib.lines.Line2D at 0x7f3eb6bfb810>]"
            ]
          },
          "metadata": {
            "tags": []
          },
          "execution_count": 24
        },
        {
          "output_type": "display_data",
          "data": {
            "image/png": "[encoded data removed]",
            "text/plain": [
              "<Figure size 432x288 with 1 Axes>"
            ]
          },
          "metadata": {
            "tags": [],
            "needs_background": "light"
          }
        }
      ]
    }
  ]
}