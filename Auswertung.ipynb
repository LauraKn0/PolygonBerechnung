{
  "nbformat": 4,
  "nbformat_minor": 0,
  "metadata": {
    "colab": {
      "name": "Auswertung.ipynb",
      "provenance": [],
      "collapsed_sections": [],
      "authorship_tag": "ABX9TyPmxBF8B+g8im+HBgbQYK65"
    },
    "kernelspec": {
      "name": "python3",
      "display_name": "Python 3"
    },
    "language_info": {
      "name": "python"
    }
  },
  "cells": [
    {
      "cell_type": "markdown",
      "metadata": {
        "id": "r1PR9AXaWVzg"
      },
      "source": [
        "#GIS-Part Ad Vacuum"
      ]
    },
    {
      "cell_type": "markdown",
      "metadata": {
        "id": "rLSrOimDqxee"
      },
      "source": [
        "Quellen:\n",
        "\n",
        "1.   https://realpython.com/api-integration-in-python/\n",
        "2.   https://openweathermap.org/current#geo\n",
        "3.   https://docs.python-requests.org/de/latest/user/quickstart.html\n",
        "4.   https://www.geeksforgeeks.org/read-json-file-using-python/"
      ]
    },
    {
      "cell_type": "markdown",
      "metadata": {
        "id": "-nlPkWGCWPVP"
      },
      "source": [
        "## Import Libraries"
      ]
    },
    {
      "cell_type": "code",
      "metadata": {
        "id": "v0weZiAJRf76"
      },
      "source": [
        "#%pip list"
      ],
      "execution_count": null,
      "outputs": []
    },
    {
      "cell_type": "code",
      "metadata": {
        "id": "BYAuzqrbI-Wl"
      },
      "source": [
        "import pandas as pd\n",
        "pd.__version__"
      ],
      "execution_count": null,
      "outputs": []
    },
    {
      "cell_type": "code",
      "metadata": {
        "colab": {
          "base_uri": "https://localhost:8080/",
          "height": 35
        },
        "id": "uJF0_PdFSPZG",
        "outputId": "9b0c84d2-3f55-43ee-9199-3a65ee31d125"
      },
      "source": [
        "import requests\n",
        "requests.__version__"
      ],
      "execution_count": 1,
      "outputs": [
        {
          "output_type": "execute_result",
          "data": {
            "application/vnd.google.colaboratory.intrinsic+json": {
              "type": "string"
            },
            "text/plain": [
              "'2.23.0'"
            ]
          },
          "metadata": {
            "tags": []
          },
          "execution_count": 1
        }
      ]
    },
    {
      "cell_type": "code",
      "metadata": {
        "colab": {
          "base_uri": "https://localhost:8080/",
          "height": 35
        },
        "id": "gdFcD_OxY0-e",
        "outputId": "5001128f-4e5d-442a-d1a9-d48520a847ff"
      },
      "source": [
        "import json\n",
        "json.__version__"
      ],
      "execution_count": 5,
      "outputs": [
        {
          "output_type": "execute_result",
          "data": {
            "application/vnd.google.colaboratory.intrinsic+json": {
              "type": "string"
            },
            "text/plain": [
              "'2.0.9'"
            ]
          },
          "metadata": {
            "tags": []
          },
          "execution_count": 5
        }
      ]
    },
    {
      "cell_type": "markdown",
      "metadata": {
        "id": "vLL6ID-5Wn7J"
      },
      "source": [
        "## API Call and Response"
      ]
    },
    {
      "cell_type": "code",
      "metadata": {
        "id": "MhHrOUT8Z76A",
        "colab": {
          "base_uri": "https://localhost:8080/"
        },
        "outputId": "cc783722-0443-4e55-9de0-d129001e365a"
      },
      "source": [
        "#Salzburg\n",
        "input_coords = '{\"type\":\"FeatureCollection\",\"features\":[{\"type\":\"Feature\",\"properties\":{},\"geometry\":{\"type\":\"Point\",\"coordinates\":[13.033218383789062,47.79355334155344]}}]}'\n",
        "#Hallein\n",
        "#testcoords = '{\"type\":\"FeatureCollection\",\"features\":[{\"type\":\"Feature\",\"properties\":{},\"geometry\":{\"type\":\"Point\",\"coordinates\":[13.096046447753906,47.69104578658821]}}]}'\n",
        "print(input_coords)"
      ],
      "execution_count": 9,
      "outputs": [
        {
          "output_type": "stream",
          "text": [
            "{\"type\":\"FeatureCollection\",\"features\":[{\"type\":\"Feature\",\"properties\":{},\"geometry\":{\"type\":\"Point\",\"coordinates\":[13.033218383789062,47.79355334155344]}}]}\n"
          ],
          "name": "stdout"
        }
      ]
    },
    {
      "cell_type": "code",
      "metadata": {
        "colab": {
          "base_uri": "https://localhost:8080/"
        },
        "id": "uhZYOBA5Ysfx",
        "outputId": "d67e47b6-8521-4bc9-ff82-159ade33182b"
      },
      "source": [
        "json_coords = json.loads(input_coords)\n",
        "print(json.dumps(json_coords, indent=4, sort_keys=True))"
      ],
      "execution_count": 10,
      "outputs": [
        {
          "output_type": "stream",
          "text": [
            "{\n",
            "    \"features\": [\n",
            "        {\n",
            "            \"geometry\": {\n",
            "                \"coordinates\": [\n",
            "                    13.033218383789062,\n",
            "                    47.79355334155344\n",
            "                ],\n",
            "                \"type\": \"Point\"\n",
            "            },\n",
            "            \"properties\": {},\n",
            "            \"type\": \"Feature\"\n",
            "        }\n",
            "    ],\n",
            "    \"type\": \"FeatureCollection\"\n",
            "}\n"
          ],
          "name": "stdout"
        }
      ]
    },
    {
      "cell_type": "code",
      "metadata": {
        "colab": {
          "base_uri": "https://localhost:8080/"
        },
        "id": "GKzfs6c_bx6C",
        "outputId": "635fe710-b5e7-4a64-ff1e-8920ad9edb60"
      },
      "source": [
        "lat = json_coords[\"features\"][0][\"geometry\"][\"coordinates\"][1]\n",
        "print(lat)\n",
        "lon = json_coords[\"features\"][0][\"geometry\"][\"coordinates\"][0]\n",
        "print(lon)"
      ],
      "execution_count": null,
      "outputs": [
        {
          "output_type": "stream",
          "text": [
            "47.79355334155344\n",
            "13.033218383789062\n"
          ],
          "name": "stdout"
        }
      ]
    },
    {
      "cell_type": "code",
      "metadata": {
        "id": "nyGkMcW_Jrci"
      },
      "source": [
        "#lat = '47.7994'\n",
        "#lon = '13.044'\n",
        "#resp = requests.get('http://api.openweathermap.org/data/2.5/weather?q=Salzburg&appid=ID')\n",
        "resp = requests.get('http://api.openweathermap.org/data/2.5/weather?lat=' + str(lat) + '&lon=' + str(lon) + '&appid=ID')\n",
        "if resp.status_code != 200:\n",
        "    # This means something went wrong.\n",
        "    raise ApiError('GET /tasks/ {}'.format(resp.status_code))"
      ],
      "execution_count": null,
      "outputs": []
    },
    {
      "cell_type": "code",
      "metadata": {
        "colab": {
          "base_uri": "https://localhost:8080/"
        },
        "id": "5bTDl9dAXEgQ",
        "outputId": "ae26aaeb-c8e2-4f3c-d056-8597164962a2"
      },
      "source": [
        "print(resp.text)"
      ],
      "execution_count": 8,
      "outputs": [
        {
          "output_type": "stream",
          "text": [
            "{\"coord\":{\"lon\":13.044,\"lat\":47.7994},\"weather\":[{\"id\":802,\"main\":\"Clouds\",\"description\":\"scattered clouds\",\"icon\":\"03d\"}],\"base\":\"stations\",\"main\":{\"temp\":288.89,\"feels_like\":287.46,\"temp_min\":287.04,\"temp_max\":290.15,\"pressure\":1014,\"humidity\":36},\"visibility\":10000,\"wind\":{\"speed\":2.57,\"deg\":0},\"clouds\":{\"all\":40},\"dt\":1619021963,\"sys\":{\"type\":1,\"id\":6877,\"country\":\"AT\",\"sunrise\":1618978036,\"sunset\":1619028322},\"timezone\":7200,\"id\":2766824,\"name\":\"Salzburg\",\"cod\":200}\n"
          ],
          "name": "stdout"
        }
      ]
    },
    {
      "cell_type": "markdown",
      "metadata": {
        "id": "m7VrJWrk0wpn"
      },
      "source": [
        "##Prettify JSON and get Wind Information"
      ]
    },
    {
      "cell_type": "code",
      "metadata": {
        "colab": {
          "base_uri": "https://localhost:8080/"
        },
        "id": "pvwEwpWDZKiB",
        "outputId": "b8900cb1-9243-4b7a-fc26-73bb662acc40"
      },
      "source": [
        "parsed = json.loads(resp.text)\n",
        "print(json.dumps(parsed, indent=4, sort_keys=True))"
      ],
      "execution_count": 6,
      "outputs": [
        {
          "output_type": "stream",
          "text": [
            "{\n",
            "    \"base\": \"stations\",\n",
            "    \"clouds\": {\n",
            "        \"all\": 40\n",
            "    },\n",
            "    \"cod\": 200,\n",
            "    \"coord\": {\n",
            "        \"lat\": 47.7994,\n",
            "        \"lon\": 13.044\n",
            "    },\n",
            "    \"dt\": 1619021436,\n",
            "    \"id\": 2766824,\n",
            "    \"main\": {\n",
            "        \"feels_like\": 287.57,\n",
            "        \"humidity\": 36,\n",
            "        \"pressure\": 1014,\n",
            "        \"temp\": 288.99,\n",
            "        \"temp_max\": 290.15,\n",
            "        \"temp_min\": 287.04\n",
            "    },\n",
            "    \"name\": \"Salzburg\",\n",
            "    \"sys\": {\n",
            "        \"country\": \"AT\",\n",
            "        \"id\": 6877,\n",
            "        \"sunrise\": 1618978036,\n",
            "        \"sunset\": 1619028322,\n",
            "        \"type\": 1\n",
            "    },\n",
            "    \"timezone\": 7200,\n",
            "    \"visibility\": 10000,\n",
            "    \"weather\": [\n",
            "        {\n",
            "            \"description\": \"scattered clouds\",\n",
            "            \"icon\": \"03d\",\n",
            "            \"id\": 802,\n",
            "            \"main\": \"Clouds\"\n",
            "        }\n",
            "    ],\n",
            "    \"wind\": {\n",
            "        \"deg\": 0,\n",
            "        \"speed\": 2.57\n",
            "    }\n",
            "}\n"
          ],
          "name": "stdout"
        }
      ]
    },
    {
      "cell_type": "code",
      "metadata": {
        "colab": {
          "base_uri": "https://localhost:8080/"
        },
        "id": "wkWUy5xBXob7",
        "outputId": "965003c8-4250-4d2e-82eb-2f1a99bca6e6"
      },
      "source": [
        "wind = parsed[\"wind\"]\n",
        "wind_speed = parsed[\"wind\"][\"speed\"]\n",
        "wind_dir = parsed[\"wind\"][\"deg\"]\n",
        "print(wind_speed)\n",
        "print(wind_dir)"
      ],
      "execution_count": null,
      "outputs": [
        {
          "output_type": "stream",
          "text": [
            "3.09\n",
            "170\n"
          ],
          "name": "stdout"
        }
      ]
    },
    {
      "cell_type": "markdown",
      "metadata": {
        "id": "UjpJXyXv1OWd"
      },
      "source": [
        "##Create wind cones"
      ]
    },
    {
      "cell_type": "markdown",
      "metadata": {
        "id": "rH6OFruZy8BJ"
      },
      "source": [
        "https://gis.stackexchange.com/questions/326681/getting-geometries-of-hurricanes-cone-of-uncertainty-using-shapely"
      ]
    },
    {
      "cell_type": "code",
      "metadata": {
        "id": "Zs5Z0CqIwbQ4"
      },
      "source": [
        ""
      ],
      "execution_count": null,
      "outputs": []
    }
  ]
}
