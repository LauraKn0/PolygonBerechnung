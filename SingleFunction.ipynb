{
  "nbformat": 4,
  "nbformat_minor": 0,
  "metadata": {
    "colab": {
      "name": "SingleFunction",
      "provenance": [],
      "collapsed_sections": [],
      "authorship_tag": "ABX9TyO9pyDPXvqJauZL4Eoui6ax"
    },
    "kernelspec": {
      "name": "python3",
      "display_name": "Python 3"
    },
    "language_info": {
      "name": "python"
    }
  },
  "cells": [
    {
      "cell_type": "code",
      "metadata": {
        "id": "Pr72cEp-O79y"
      },
      "source": [
        "! git clone https://github.com/Turbo87/utm\n",
        "%pip install /content/utm/\n",
        "%pip install geopandas\n",
        "%pip install geojson\n",
        "import pandas as pd\n",
        "import requests\n",
        "import json\n",
        "import numpy as np\n",
        "import utm\n",
        "import matplotlib.pyplot as plt\n",
        "from shapely.geometry import MultiPolygon, Polygon\n",
        "from shapely.ops import cascaded_union\n",
        "from shapely import wkt\n",
        "from scipy.interpolate import interp1d\n",
        "import geojson"
      ],
      "execution_count": null,
      "outputs": []
    },
    {
      "cell_type": "code",
      "metadata": {
        "id": "QT20LXP6PM7J"
      },
      "source": [
        "def get_influence_polygon(inputJson):\n",
        "    json_coords = json.loads(inputJson)\n",
        "    #print(json.dumps(json_coords, indent=4, sort_keys=True))\n",
        "\n",
        "    lat = json_coords[\"features\"][0][\"geometry\"][\"coordinates\"][1]\n",
        "    #print(lat)\n",
        "    lon = json_coords[\"features\"][0][\"geometry\"][\"coordinates\"][0]\n",
        "    #print(lon)\n",
        "\n",
        "    resp = requests.get('http://api.openweathermap.org/data/2.5/weather?lat=' + str(lat) + '&lon=' + str(lon) + '&appid={}')\n",
        "    if resp.status_code != 200:\n",
        "        # This means something went wrong.\n",
        "        raise ApiError('GET /tasks/ {}'.format(resp.status_code))\n",
        "\n",
        "    #print(resp.text)\n",
        "\n",
        "    ##Prettify JSON and get Wind Information\n",
        "    parsed = json.loads(resp.text)\n",
        "    wind = parsed[\"wind\"]\n",
        "    wind_speed = parsed[\"wind\"][\"speed\"]\n",
        "    wind_dir = parsed[\"wind\"][\"deg\"]\n",
        "    #print(wind_speed)\n",
        "    #print(wind_dir)\n",
        "\n",
        "    ##Create wind cones\n",
        "    #Recalculation of movement in km\n",
        "    #Wind speed is calculated from m/s to km/h via *3.6\n",
        "    #Fires move 1/10th the km/h of the wind speed (see paper above), thus /10\n",
        "    wind_speed_move = (float(wind_speed)*3.6)/10 \n",
        "    #print(wind_speed_move)\n",
        "\n",
        "    #Recalculation from geographic to arithmetic degrees\n",
        "    #+180 because the fire goes away from the wind, not into the same direction\n",
        "    dir_new = (-(wind_dir+180)+450)%360\n",
        "    #print(dir_new)\n",
        "\n",
        "    #Calculate x and y\n",
        "    dx=wind_speed_move*np.cos(np.radians(dir_new))\n",
        "    #print(dx)\n",
        "    dy=wind_speed_move*np.sin(np.radians(dir_new))\n",
        "    #print(dy)\n",
        "\n",
        "    #Conversion to degrees latitude and longitude\n",
        "    #The approximate conversions are:\n",
        "    #Latitude: 1 deg = 110.574 km -> deg = x/110.574\n",
        "    #Longitude: 1 deg = 111.320*cos(latitude) km -> deg = x/111.320\n",
        "\n",
        "    #conversion to UTM ('meters')\n",
        "    utm_coords = utm.from_latlon(lat, lon)\n",
        "\n",
        "    #add x and y in meters\n",
        "    newlat=utm_coords[0]+(dx*1000)\n",
        "    newlon=utm_coords[1]+(dy*1000)\n",
        "\n",
        "    #Return to WGS84\n",
        "    pos2 = utm.to_latlon(newlat,newlon,utm_coords[2],utm_coords[3])\n",
        "    #print(pos2)\n",
        "\n",
        "    # x, y: coords of forecast position\n",
        "    y = [lat, pos2[0],47.81765021489975,47.831134971598395]\n",
        "    x = [lon, pos2[1],13.046951293945312,13.071155548095703]\n",
        "    # r: radius of uncertainty\n",
        "    r = [0, 0.001, 0.002, 0.003]\n",
        "    hours = [0, 1, 2, 3]\n",
        "    # interpolate\n",
        "    points_num = 100\n",
        "    interp_hours = np.linspace(min(hours), max(hours), points_num)\n",
        "    x = interp1d(hours, x, kind='cubic')(interp_hours)\n",
        "    y = interp1d(hours, y, kind='cubic')(interp_hours)\n",
        "    r = interp1d(hours, r, kind='linear')(interp_hours)\n",
        "    # make polygon\n",
        "    thetas = np.linspace(0, 2 * np.pi, 360)\n",
        "    polygon_x = x[:,None] + r[:,None] * np.sin(thetas)\n",
        "    polygon_y = y[:,None] + r[:,None] * np.cos(thetas)\n",
        "\n",
        "    # circles\n",
        "    ps = [Polygon(i) for i in np.dstack((polygon_x, polygon_y))]\n",
        "\n",
        "    # list of convex hulls of subsequent circles\n",
        "    n = range(len(ps)-1)\n",
        "    convex_hulls = [MultiPolygon([ps[i], ps[i+1]]).convex_hull for i in n]\n",
        "\n",
        "    # Final polygon\n",
        "    polygons = cascaded_union(convex_hulls)\n",
        "\n",
        "    #Convert to WKT to convert then to geojson\n",
        "    g1=wkt.loads(str(polygons))\n",
        "    g2=geojson.Feature(properties={\"Name\": \"Betroffenheitspolygon\"},geometry=g1)\n",
        "\n",
        "    #print(g2)\n",
        "    return g2"
      ],
      "execution_count": 7,
      "outputs": []
    },
    {
      "cell_type": "code",
      "metadata": {
        "id": "ydHO3tPTPP_m"
      },
      "source": [
        "input_coords = '{\"type\":\"FeatureCollection\",\"features\":[{\"type\":\"Feature\",\"properties\":{},\"geometry\":{\"type\":\"Point\",\"coordinates\":[13.033218383789062,47.79355334155344]}}]}'\n",
        "print(input_coords)"
      ],
      "execution_count": null,
      "outputs": []
    },
    {
      "cell_type": "code",
      "metadata": {
        "id": "N8qG4_GlPlZV"
      },
      "source": [
        "polygon=get_influence_polygon(input_coords)"
      ],
      "execution_count": 9,
      "outputs": []
    },
    {
      "cell_type": "code",
      "metadata": {
        "id": "KQb07lWSQHrX"
      },
      "source": [
        "polygon"
      ],
      "execution_count": null,
      "outputs": []
    }
  ]
}